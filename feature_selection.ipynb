{
  "nbformat": 4,
  "nbformat_minor": 0,
  "metadata": {
    "colab": {
      "provenance": []
    },
    "kernelspec": {
      "name": "python3",
      "display_name": "Python 3"
    },
    "language_info": {
      "name": "python"
    }
  },
  "cells": [
    {
      "cell_type": "code",
      "source": [
        "df = pd.read_excel(\"/content/sample_data/Team Stats Arsenal.xlsx\", sheet_name=\"TeamStats\")\n",
        "print(df.head())"
      ],
      "metadata": {
        "id": "u9DRiaJ8wjMA"
      },
      "execution_count": null,
      "outputs": []
    },
    {
      "cell_type": "markdown",
      "source": [],
      "metadata": {
        "id": "wVpnNRlz36Hr"
      }
    },
    {
      "cell_type": "code",
      "execution_count": 27,
      "metadata": {
        "id": "sfkgThIXBk7R",
        "colab": {
          "base_uri": "https://localhost:8080/"
        },
        "outputId": "7caf72a8-02cd-4a7c-b3e9-37469281c954"
      },
      "outputs": [
        {
          "output_type": "stream",
          "name": "stdout",
          "text": [
            "Top 10 Features:\n",
            "Shots / on target_1             0.255316\n",
            "xG                              0.184039\n",
            "Shots / on target_2             0.058963\n",
            "Set pieces / with shots         0.031737\n",
            "Aerial duels / won_2            0.019435\n",
            "Corners / with shots_2          0.017846\n",
            "Smart passes / accurate         0.016149\n",
            "Long passes / accurate_2        0.014451\n",
            "Defensive duels / won_2         0.014004\n",
            "Losses / Low / Medium / High    0.012362\n",
            "dtype: float64\n",
            "Sum of all feature importances: 0.9999999999999998\n",
            "Sum of top10 feature importances: 0.6243014094214145\n"
          ]
        }
      ],
      "source": [
        "import pandas as pd\n",
        "import numpy as np\n",
        "from sklearn.ensemble import RandomForestRegressor\n",
        "from sklearn.preprocessing import LabelEncoder\n",
        "\n",
        "#读取文件\n",
        "df = pd.read_excel(\"/content/sample_data/Team Stats Arsenal.xlsx\", sheet_name=\"TeamStats\", skiprows=[1, 2])\n",
        "\n",
        "#自动命名合并数据\n",
        "new_cols = []\n",
        "current_title = None\n",
        "count = 0\n",
        "for col in df.columns:\n",
        "    if \"Unnamed\" not in str(col):\n",
        "        current_title = col\n",
        "        count = 0\n",
        "        new_cols.append(col)\n",
        "    else:\n",
        "        count += 1\n",
        "        new_cols.append(f\"{current_title}_{count}\")\n",
        "df.columns = new_cols\n",
        "\n",
        "#文字转数字\n",
        "for col in df.select_dtypes(include=['object']).columns:\n",
        "    df[col] = LabelEncoder().fit_transform(df[col].astype(str))\n",
        "\n",
        "#将y作为预测目标，其余列作为特征x\n",
        "X = df.drop(\"Goals\", axis=1)\n",
        "y = df[\"Goals\"]\n",
        "\n",
        "#构建模型\n",
        "rf = RandomForestRegressor(n_estimators=100, random_state=42)\n",
        "rf.fit(X, y)\n",
        "\n",
        "#特征\n",
        "feature_importances = pd.Series(rf.feature_importances_, index=X.columns).sort_values(ascending=False)\n",
        "top10 = feature_importances.head(10)\n",
        "\n",
        "#列出Top10\n",
        "print(\"Top 10 Features:\")\n",
        "print(top10)\n",
        "\n",
        "#特征重要性\n",
        "print(\"Sum of all feature importances:\", feature_importances.sum())\n",
        "print(\"Sum of top10 feature importances:\", top10.sum())"
      ]
    }
  ]
}